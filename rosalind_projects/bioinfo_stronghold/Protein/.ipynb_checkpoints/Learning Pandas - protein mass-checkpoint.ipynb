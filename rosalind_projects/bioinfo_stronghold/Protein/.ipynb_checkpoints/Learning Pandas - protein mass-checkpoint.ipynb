{
 "cells": [
  {
   "cell_type": "code",
   "execution_count": 2,
   "metadata": {
    "collapsed": false,
    "scrolled": true
   },
   "outputs": [],
   "source": [
    "import re\n",
    "import decimal\n",
    "import pandas as pd\n",
    "import numpy as np\n",
    "import matplotlib as plt"
   ]
  },
  {
   "cell_type": "code",
   "execution_count": 9,
   "metadata": {
    "collapsed": false
   },
   "outputs": [
    {
     "data": {
      "text/html": [
       "<div>\n",
       "<table border=\"1\" class=\"dataframe\">\n",
       "  <thead>\n",
       "    <tr style=\"text-align: right;\">\n",
       "      <th></th>\n",
       "      <th>AA</th>\n",
       "      <th>Mass</th>\n",
       "    </tr>\n",
       "  </thead>\n",
       "  <tbody>\n",
       "    <tr>\n",
       "      <th>0</th>\n",
       "      <td>A</td>\n",
       "      <td>71.03711</td>\n",
       "    </tr>\n",
       "    <tr>\n",
       "      <th>1</th>\n",
       "      <td>C</td>\n",
       "      <td>103.00919</td>\n",
       "    </tr>\n",
       "    <tr>\n",
       "      <th>2</th>\n",
       "      <td>D</td>\n",
       "      <td>115.02694</td>\n",
       "    </tr>\n",
       "    <tr>\n",
       "      <th>3</th>\n",
       "      <td>E</td>\n",
       "      <td>129.04259</td>\n",
       "    </tr>\n",
       "    <tr>\n",
       "      <th>4</th>\n",
       "      <td>F</td>\n",
       "      <td>147.06841</td>\n",
       "    </tr>\n",
       "    <tr>\n",
       "      <th>5</th>\n",
       "      <td>G</td>\n",
       "      <td>57.02146</td>\n",
       "    </tr>\n",
       "    <tr>\n",
       "      <th>6</th>\n",
       "      <td>H</td>\n",
       "      <td>137.05891</td>\n",
       "    </tr>\n",
       "    <tr>\n",
       "      <th>7</th>\n",
       "      <td>I</td>\n",
       "      <td>113.08406</td>\n",
       "    </tr>\n",
       "    <tr>\n",
       "      <th>8</th>\n",
       "      <td>K</td>\n",
       "      <td>128.09496</td>\n",
       "    </tr>\n",
       "    <tr>\n",
       "      <th>9</th>\n",
       "      <td>L</td>\n",
       "      <td>113.08406</td>\n",
       "    </tr>\n",
       "    <tr>\n",
       "      <th>10</th>\n",
       "      <td>M</td>\n",
       "      <td>131.04049</td>\n",
       "    </tr>\n",
       "    <tr>\n",
       "      <th>11</th>\n",
       "      <td>N</td>\n",
       "      <td>114.04293</td>\n",
       "    </tr>\n",
       "    <tr>\n",
       "      <th>12</th>\n",
       "      <td>P</td>\n",
       "      <td>97.05276</td>\n",
       "    </tr>\n",
       "    <tr>\n",
       "      <th>13</th>\n",
       "      <td>Q</td>\n",
       "      <td>128.05858</td>\n",
       "    </tr>\n",
       "    <tr>\n",
       "      <th>14</th>\n",
       "      <td>R</td>\n",
       "      <td>156.10111</td>\n",
       "    </tr>\n",
       "    <tr>\n",
       "      <th>15</th>\n",
       "      <td>S</td>\n",
       "      <td>87.03203</td>\n",
       "    </tr>\n",
       "    <tr>\n",
       "      <th>16</th>\n",
       "      <td>T</td>\n",
       "      <td>101.04768</td>\n",
       "    </tr>\n",
       "    <tr>\n",
       "      <th>17</th>\n",
       "      <td>V</td>\n",
       "      <td>99.06841</td>\n",
       "    </tr>\n",
       "    <tr>\n",
       "      <th>18</th>\n",
       "      <td>W</td>\n",
       "      <td>186.07931</td>\n",
       "    </tr>\n",
       "    <tr>\n",
       "      <th>19</th>\n",
       "      <td>Y</td>\n",
       "      <td>163.06333</td>\n",
       "    </tr>\n",
       "  </tbody>\n",
       "</table>\n",
       "</div>"
      ],
      "text/plain": [
       "   AA       Mass\n",
       "0   A   71.03711\n",
       "1   C  103.00919\n",
       "2   D  115.02694\n",
       "3   E  129.04259\n",
       "4   F  147.06841\n",
       "5   G   57.02146\n",
       "6   H  137.05891\n",
       "7   I  113.08406\n",
       "8   K  128.09496\n",
       "9   L  113.08406\n",
       "10  M  131.04049\n",
       "11  N  114.04293\n",
       "12  P   97.05276\n",
       "13  Q  128.05858\n",
       "14  R  156.10111\n",
       "15  S   87.03203\n",
       "16  T  101.04768\n",
       "17  V   99.06841\n",
       "18  W  186.07931\n",
       "19  Y  163.06333"
      ]
     },
     "execution_count": 9,
     "metadata": {},
     "output_type": "execute_result"
    }
   ],
   "source": [
    "\n",
    "aamass2 = pd.read_csv('aa_masstable_2.csv')\n",
    "aamass2"
   ]
  },
  {
   "cell_type": "code",
   "execution_count": 54,
   "metadata": {
    "collapsed": false
   },
   "outputs": [
    {
     "name": "stdout",
     "output_type": "stream",
     "text": [
      "    0          1\n",
      "0   A   71.03711\n",
      "1   C  103.00919\n",
      "2   D  115.02694\n",
      "3   E  129.04259\n",
      "4   F  147.06841\n",
      "5   G   57.02146\n",
      "6   H  137.05891\n",
      "7   I  113.08406\n",
      "8   K  128.09496\n",
      "9   L  113.08406\n",
      "10  M  131.04049\n",
      "11  N  114.04293\n",
      "12  P   97.05276\n",
      "13  Q  128.05858\n",
      "14  R  156.10111\n",
      "15  S   87.03203\n",
      "16  T  101.04768\n",
      "17  V   99.06841\n",
      "18  W  186.07931\n",
      "19  Y  163.06333\n",
      "   AA       Mass\n",
      "0   A   71.03711\n",
      "1   C  103.00919\n",
      "2   D  115.02694\n",
      "3   E  129.04259\n",
      "4   F  147.06841\n",
      "5   G   57.02146\n",
      "6   H  137.05891\n",
      "7   I  113.08406\n",
      "8   K  128.09496\n",
      "9   L  113.08406\n",
      "10  M  131.04049\n",
      "11  N  114.04293\n",
      "12  P   97.05276\n",
      "13  Q  128.05858\n",
      "14  R  156.10111\n",
      "15  S   87.03203\n",
      "16  T  101.04768\n",
      "17  V   99.06841\n",
      "18  W  186.07931\n",
      "19  Y  163.06333\n"
     ]
    }
   ],
   "source": [
    "print(aamass)\n",
    "print(aamass2)"
   ]
  },
  {
   "cell_type": "code",
   "execution_count": 55,
   "metadata": {
    "collapsed": false
   },
   "outputs": [
    {
     "name": "stdout",
     "output_type": "stream",
     "text": [
      "Index(['0', '1'], dtype='object')\n",
      "Index(['AA', 'Mass'], dtype='object')\n"
     ]
    }
   ],
   "source": [
    "print(aamass.columns)\n",
    "print(aamass2.columns)"
   ]
  },
  {
   "cell_type": "code",
   "execution_count": 56,
   "metadata": {
    "collapsed": false,
    "scrolled": true
   },
   "outputs": [],
   "source": [
    "colzero = aamass['0']\n",
    "colzero_2 = aamass2['AA']"
   ]
  },
  {
   "cell_type": "code",
   "execution_count": 57,
   "metadata": {
    "collapsed": false
   },
   "outputs": [
    {
     "name": "stdout",
     "output_type": "stream",
     "text": [
      "0     A\n",
      "1     C\n",
      "2     D\n",
      "3     E\n",
      "4     F\n",
      "5     G\n",
      "6     H\n",
      "7     I\n",
      "8     K\n",
      "9     L\n",
      "10    M\n",
      "11    N\n",
      "12    P\n",
      "13    Q\n",
      "14    R\n",
      "15    S\n",
      "16    T\n",
      "17    V\n",
      "18    W\n",
      "19    Y\n",
      "Name: 0, dtype: object\n",
      "0     A\n",
      "1     C\n",
      "2     D\n",
      "3     E\n",
      "4     F\n",
      "5     G\n",
      "6     H\n",
      "7     I\n",
      "8     K\n",
      "9     L\n",
      "10    M\n",
      "11    N\n",
      "12    P\n",
      "13    Q\n",
      "14    R\n",
      "15    S\n",
      "16    T\n",
      "17    V\n",
      "18    W\n",
      "19    Y\n",
      "Name: AA, dtype: object\n"
     ]
    }
   ],
   "source": [
    "print(colzero)\n",
    "print(colzero_2)"
   ]
  },
  {
   "cell_type": "code",
   "execution_count": 58,
   "metadata": {
    "collapsed": true
   },
   "outputs": [],
   "source": [
    "aamass_2_df = pd.DataFrame(aamass2)"
   ]
  },
  {
   "cell_type": "code",
   "execution_count": 59,
   "metadata": {
    "collapsed": false
   },
   "outputs": [
    {
     "name": "stdout",
     "output_type": "stream",
     "text": [
      "   AA       Mass\n",
      "0   A   71.03711\n",
      "1   C  103.00919\n",
      "2   D  115.02694\n",
      "3   E  129.04259\n",
      "4   F  147.06841\n",
      "5   G   57.02146\n",
      "6   H  137.05891\n",
      "7   I  113.08406\n",
      "8   K  128.09496\n",
      "9   L  113.08406\n",
      "10  M  131.04049\n",
      "11  N  114.04293\n",
      "12  P   97.05276\n",
      "13  Q  128.05858\n",
      "14  R  156.10111\n",
      "15  S   87.03203\n",
      "16  T  101.04768\n",
      "17  V   99.06841\n",
      "18  W  186.07931\n",
      "19  Y  163.06333\n"
     ]
    }
   ],
   "source": [
    "print(aamass_2_df)"
   ]
  },
  {
   "cell_type": "code",
   "execution_count": 60,
   "metadata": {
    "collapsed": false
   },
   "outputs": [
    {
     "data": {
      "text/plain": [
       "0     A\n",
       "1     C\n",
       "2     D\n",
       "3     E\n",
       "4     F\n",
       "5     G\n",
       "6     H\n",
       "7     I\n",
       "8     K\n",
       "9     L\n",
       "10    M\n",
       "11    N\n",
       "12    P\n",
       "13    Q\n",
       "14    R\n",
       "15    S\n",
       "16    T\n",
       "17    V\n",
       "18    W\n",
       "19    Y\n",
       "Name: AA, dtype: object"
      ]
     },
     "execution_count": 60,
     "metadata": {},
     "output_type": "execute_result"
    }
   ],
   "source": [
    "aamass_2_df['AA']"
   ]
  },
  {
   "cell_type": "code",
   "execution_count": 89,
   "metadata": {
    "collapsed": false
   },
   "outputs": [],
   "source": [
    "AA = aamass_2_df['AA'].tolist()\n",
    "Mass = aamass_2_df['Mass'].tolist()"
   ]
  },
  {
   "cell_type": "code",
   "execution_count": 126,
   "metadata": {
    "collapsed": false
   },
   "outputs": [
    {
     "name": "stdout",
     "output_type": "stream",
     "text": [
      "{'L': 113.08406000000001, 'M': 131.04048999999998, 'A': 71.037109999999998, 'G': 57.021459999999998, 'R': 156.10111000000001, 'S': 87.032030000000006, 'H': 137.05891, 'C': 103.00919, 'F': 147.06841, 'Q': 128.05858000000001, 'V': 99.06841, 'I': 113.08406000000001, 'P': 97.052759999999992, 'D': 115.02694, 'E': 129.04258999999999, 'N': 114.04293, 'T': 101.04768, 'Y': 163.06333000000001, 'K': 128.09496000000001, 'W': 186.07931000000002}\n"
     ]
    }
   ],
   "source": [
    "massdict = {}\n",
    "for i in range(0,len(AA)):\n",
    "    massdict[AA[i]] = Mass[i]\n",
    "print(massdict)"
   ]
  },
  {
   "cell_type": "code",
   "execution_count": 104,
   "metadata": {
    "collapsed": true
   },
   "outputs": [],
   "source": [
    "Protein = 'SKADYEK'"
   ]
  },
  {
   "cell_type": "code",
   "execution_count": 105,
   "metadata": {
    "collapsed": false
   },
   "outputs": [],
   "source": [
    "Prosplit = re.findall('.{1}', Protein)"
   ]
  },
  {
   "cell_type": "code",
   "execution_count": 109,
   "metadata": {
    "collapsed": false
   },
   "outputs": [
    {
     "name": "stdout",
     "output_type": "stream",
     "text": [
      "['S', 'K', 'A', 'D', 'Y', 'E', 'K']\n"
     ]
    }
   ],
   "source": [
    "print(Prosplit)"
   ]
  },
  {
   "cell_type": "code",
   "execution_count": 111,
   "metadata": {
    "collapsed": false
   },
   "outputs": [
    {
     "name": "stdout",
     "output_type": "stream",
     "text": [
      "face\n"
     ]
    }
   ],
   "source": [
    "prdd"
   ]
  },
  {
   "cell_type": "code",
   "execution_count": null,
   "metadata": {
    "collapsed": true
   },
   "outputs": [],
   "source": []
  }
 ],
 "metadata": {
  "anaconda-cloud": {},
  "kernelspec": {
   "display_name": "Python [Root]",
   "language": "python",
   "name": "Python [Root]"
  },
  "language_info": {
   "codemirror_mode": {
    "name": "ipython",
    "version": 3
   },
   "file_extension": ".py",
   "mimetype": "text/x-python",
   "name": "python",
   "nbconvert_exporter": "python",
   "pygments_lexer": "ipython3",
   "version": "3.5.2"
  }
 },
 "nbformat": 4,
 "nbformat_minor": 0
}
